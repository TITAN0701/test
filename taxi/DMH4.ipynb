{
 "cells": [
  {
   "cell_type": "code",
   "execution_count": 6,
   "metadata": {},
   "outputs": [
    {
     "name": "stdout",
     "output_type": "stream",
     "text": [
      "      Test_ID  Zone_ID        Date  Hour_slot  Hire_count\n",
      "0           0        7  2017-02-01          0         NaN\n",
      "1           1        7  2017-02-01          1         NaN\n",
      "2           2        7  2017-02-01          2         NaN\n",
      "3           3        7  2017-02-01          3         NaN\n",
      "4           4        7  2017-02-01          4         NaN\n",
      "...       ...      ...         ...        ...         ...\n",
      "6043     6043       19  2017-02-28         19         NaN\n",
      "6044     6044       19  2017-02-28         20         NaN\n",
      "6045     6045       19  2017-02-28         21         NaN\n",
      "6046     6046       19  2017-02-28         22         NaN\n",
      "6047     6047       19  2017-02-28         23         NaN\n",
      "\n",
      "[6048 rows x 5 columns]\n"
     ]
    }
   ],
   "source": [
    "import pandas as pd\n",
    "#資料讀取\n",
    "path = './taxi_data/'\n",
    "file = ['test_hire_stats.csv','train_gps_points.csv']\n",
    "\"\"\"\n",
    "test_hire_stats.csv:乘車需求預測。\n",
    "    \n",
    "    Test_ID：    乘車需求之流水序號，共672筆\n",
    "    Date：       預測日期，格式 YYYY-mm-dd，如2017-02-01\n",
    "    Hour_slot：  預測時段，以一小時計，本欄位的值為0~23。\n",
    "                 0代表0:00:00~0:59:59時段，1代表1:00:00~1:59:59，\n",
    "                 依此類推，23代表23:00:00~23:59:59\n",
    "    Hire_count： 內湖區該時段的乘車需求預測數量，本欄位下載時為空值，\n",
    "                 請您填入您的預測值 (正整數值，0~n) 後上傳\n",
    "                 \n",
    "train_gps_points.csv:乘客上車GPS點位記錄，此資料乃經由篩選計程車錶於內湖區範圍內的啟動記錄而得，\n",
    "                     並且將計程車錶啟動時間與地點視為乘客上車點，共4,118,812筆資料。\n",
    "    \n",
    "    Datetime：   計程車錶啟動時間 (台北時間 GMT+8:00)\n",
    "    Longitude_X：GPS記錄經度 (WGS84座標)\n",
    "    Latitude_Y： GPS記錄緯度 (WGS84座標)\n",
    "\n",
    "train_hire_stats.csv\n",
    "zones.csv\n",
    "\"\"\"\n",
    "#讀取test_hire_stats.csv\n",
    "df1 = pd.read_csv(path+file[0])\n",
    "print(df1)"
   ]
  },
  {
   "cell_type": "code",
   "execution_count": 7,
   "metadata": {},
   "outputs": [
    {
     "name": "stdout",
     "output_type": "stream",
     "text": [
      "                           Datetime  Longitude_X  Latitude_Y  Zone_ID\n",
      "0        2016-02-01 08:01:10 +08:00   121.590916   25.080958       13\n",
      "1        2016-02-01 08:01:16 +08:00   121.551468   25.063524        5\n",
      "2        2016-02-01 08:01:42 +08:00   121.568883   25.068289        9\n",
      "3        2016-02-01 08:01:59 +08:00   121.559309   25.057847        5\n",
      "4        2016-02-01 08:02:04 +08:00   121.563837   25.052547        5\n",
      "...                             ...          ...         ...      ...\n",
      "4118807  2017-01-31 23:59:25 +08:00   121.603753   25.056671       20\n",
      "4118808  2017-01-31 23:59:47 +08:00   121.592167   25.086632       13\n",
      "4118809  2017-01-31 23:59:48 +08:00   121.615473   25.061945       25\n",
      "4118810  2017-01-31 23:59:50 +08:00   121.592216   25.087894       13\n",
      "4118811  2017-01-31 23:59:51 +08:00   121.618448   25.072709       24\n",
      "\n",
      "[4118812 rows x 4 columns]\n"
     ]
    }
   ],
   "source": [
    "#讀取train_gps_points.csv\n",
    "df2 = pd.read_csv(path+file[1])\n",
    "print(df2)"
   ]
  },
  {
   "cell_type": "code",
   "execution_count": 8,
   "metadata": {},
   "outputs": [
    {
     "name": "stdout",
     "output_type": "stream",
     "text": [
      "                           Datetime  Longitude_X  Latitude_Y  Zone_ID\n",
      "0        2016-02-01 08:01:10 +08:00   121.590916   25.080958       13\n",
      "1        2016-02-01 08:01:16 +08:00   121.551468   25.063524        5\n",
      "2        2016-02-01 08:01:42 +08:00   121.568883   25.068289        9\n",
      "3        2016-02-01 08:01:59 +08:00   121.559309   25.057847        5\n",
      "4        2016-02-01 08:02:04 +08:00   121.563837   25.052547        5\n",
      "...                             ...          ...         ...      ...\n",
      "4118807  2017-01-31 23:59:25 +08:00   121.603753   25.056671       20\n",
      "4118808  2017-01-31 23:59:47 +08:00   121.592167   25.086632       13\n",
      "4118809  2017-01-31 23:59:48 +08:00   121.615473   25.061945       25\n",
      "4118810  2017-01-31 23:59:50 +08:00   121.592216   25.087894       13\n",
      "4118811  2017-01-31 23:59:51 +08:00   121.618448   25.072709       24\n",
      "\n",
      "[4118812 rows x 4 columns]\n"
     ]
    }
   ],
   "source": [
    "#檢查有無遺失值，有就刪除\n",
    "select_df = pd.DataFrame(df2)\n",
    "drop_value = select_df.dropna()\n",
    "print(drop_value)"
   ]
  },
  {
   "cell_type": "code",
   "execution_count": null,
   "metadata": {},
   "outputs": [],
   "source": []
  }
 ],
 "metadata": {
  "kernelspec": {
   "display_name": "Python 3",
   "language": "python",
   "name": "python3"
  },
  "language_info": {
   "codemirror_mode": {
    "name": "ipython",
    "version": 3
   },
   "file_extension": ".py",
   "mimetype": "text/x-python",
   "name": "python",
   "nbconvert_exporter": "python",
   "pygments_lexer": "ipython3",
   "version": "3.7.5"
  },
  "toc": {
   "base_numbering": 1,
   "nav_menu": {},
   "number_sections": true,
   "sideBar": false,
   "skip_h1_title": false,
   "title_cell": "Table of Contents",
   "title_sidebar": "Contents",
   "toc_cell": false,
   "toc_position": {
    "height": "757px",
    "left": "1536px",
    "top": "92px",
    "width": "384px"
   },
   "toc_section_display": true,
   "toc_window_display": true
  }
 },
 "nbformat": 4,
 "nbformat_minor": 2
}
